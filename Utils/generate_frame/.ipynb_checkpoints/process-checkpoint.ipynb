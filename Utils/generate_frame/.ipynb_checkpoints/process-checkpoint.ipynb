{
 "cells": [
  {
   "cell_type": "code",
   "execution_count": 1,
   "metadata": {
    "collapsed": true
   },
   "outputs": [],
   "source": [
    "import os\n",
    "import shutil\n",
    "import numpy as np\n",
    "import random\n",
    "import cv2\n"
   ]
  },
  {
   "cell_type": "code",
   "execution_count": 2,
   "metadata": {
    "collapsed": true
   },
   "outputs": [],
   "source": [
    "# 如果设为True，将从整个`classify_frames`文件夹读取，并将清空整个`TARGET_DATA_DIR`文件夹\n",
    "is_flash = False"
   ]
  },
  {
   "cell_type": "code",
   "execution_count": 5,
   "metadata": {
    "collapsed": false
   },
   "outputs": [
    {
     "name": "stdout",
     "output_type": "stream",
     "text": [
      "detect_text_area/20170828\n"
     ]
    }
   ],
   "source": [
    "RAW_DATA_DIRS = ['detect_text_area/20170828']\n",
    "# 原始数据文件夹，如果不重新生成数据的话，将else部分改为新数据的文件夹\n",
    "if is_flash:\n",
    "    RAW_DATA_DIRS = os.listdir('detect_text_area')\n",
    "    RAW_DATA_DIRS = [os.path.join('detect_text_area', i) for i in RAW_DATA_DIRS]\n",
    "\n",
    "TARGET_DATA_DIR = 'data'\n",
    "dataset_name = 'data'\n",
    "\n",
    "print('\\n'.join(RAW_DATA_DIRS))"
   ]
  },
  {
   "cell_type": "code",
   "execution_count": 4,
   "metadata": {
    "collapsed": true
   },
   "outputs": [],
   "source": [
    "if is_flash:\n",
    "    if os.path.isdir(TARGET_DATA_DIR):\n",
    "        shutil.rmtree(TARGET_DATA_DIR)\n",
    "    os.mkdir(TARGET_DATA_DIR)\n",
    "    print('重建了data文件夹')"
   ]
  },
  {
   "cell_type": "code",
   "execution_count": 7,
   "metadata": {
    "collapsed": false
   },
   "outputs": [
    {
     "name": "stdout",
     "output_type": "stream",
     "text": [
      "detect_text_area/20170828/VID_20170828_121038.txt\n",
      "detect_text_area/20170828/VID_20170828_115325.txt\n",
      "detect_text_area/20170828/VID_20170828_093739.txt\n",
      "detect_text_area/20170828/VID_20170828_094102.txt\n",
      "detect_text_area/20170828/VID_20170828_094751.txt\n",
      "detect_text_area/20170828/VID_20170828_095152.txt\n",
      "detect_text_area/20170828/VID_20170828_121537.txt\n",
      "detect_text_area/20170828/VID_20170828_132622.txt\n",
      "detect_text_area/20170828/VID_20170828_093825.txt\n",
      "detect_text_area/20170828/VID_20170828_132208.txt\n",
      "detect_text_area/20170828/VID_20170828_093921(1).txt\n",
      "detect_text_area/20170828/VID_20170828_095024.txt\n",
      "detect_text_area/20170828/VID_20170828_093432.txt\n",
      "detect_text_area/20170828/VID_20170828_120614.txt\n",
      "detect_text_area/20170828/VID_20170828_094445.txt\n",
      "detect_text_area/20170828/VID_20170828_094641.txt\n",
      "detect_text_area/20170828/VID_20170828_120752.txt\n",
      "detect_text_area/20170828/VID_20170828_132420.txt\n",
      "detect_text_area/20170828/VID_20170828_120953.txt\n",
      "detect_text_area/20170828/VID_20170828_094237.txt\n",
      "detect_text_area/20170828/VID_20170828_093642.txt\n",
      "detect_text_area/20170828/VID_20170828_121232.txt\n",
      "detect_text_area/20170828/VID_20170828_121316.txt\n",
      "detect_text_area/20170828/VID_20170828_132040.txt\n",
      "detect_text_area/20170828/VID_20170828_122027.txt\n",
      "detect_text_area/20170828/VID_20170828_094403.txt\n",
      "detect_text_area/20170828/VID_20170828_120844.txt\n",
      "detect_text_area/20170828/VID_20170828_094527.txt\n",
      "detect_text_area/20170828/VID_20170828_132520.txt\n",
      "detect_text_area/20170828/VID_20170828_094143.txt\n",
      "detect_text_area/20170828/VID_20170828_115412.txt\n",
      "detect_text_area/20170828/VID_20170828_132124.txt\n",
      "detect_text_area/20170828/VID_20170828_121121.txt\n",
      "detect_text_area/20170828/VID_20170828_093532.txt\n",
      "detect_text_area/20170828/VID_20170828_121751.txt\n",
      "detect_text_area/20170828/VID_20170828_121853.txt\n",
      "detect_text_area/20170828/VID_20170828_120458.txt\n",
      "detect_text_area/20170828/VID_20170828_121646.txt\n",
      "detect_text_area/20170828/VID_20170828_121939.txt\n"
     ]
    }
   ],
   "source": [
    "files = []\n",
    "\n",
    "for raw_data_dir in RAW_DATA_DIRS:\n",
    "    for filename in os.listdir(raw_data_dir):\n",
    "        if filename.endswith('txt'):\n",
    "            files.append(os.path.join(raw_data_dir, filename))\n",
    "print('\\n'.join(files))"
   ]
  },
  {
   "cell_type": "code",
   "execution_count": 21,
   "metadata": {
    "collapsed": false
   },
   "outputs": [
    {
     "name": "stdout",
     "output_type": "stream",
     "text": [
      "写入\n",
      "写入\n",
      "写入\n",
      "写入\n",
      "写入\n"
     ]
    },
    {
     "ename": "KeyboardInterrupt",
     "evalue": "",
     "output_type": "error",
     "traceback": [
      "\u001b[0;31m---------------------------------------------------------------------------\u001b[0m",
      "\u001b[0;31mKeyboardInterrupt\u001b[0m                         Traceback (most recent call last)",
      "\u001b[0;32m<ipython-input-21-0a72d644de08>\u001b[0m in \u001b[0;36m<module>\u001b[0;34m()\u001b[0m\n\u001b[1;32m     19\u001b[0m         \u001b[0;32mfor\u001b[0m \u001b[0mi\u001b[0m \u001b[0;32min\u001b[0m \u001b[0mframe_idxs\u001b[0m\u001b[0;34m:\u001b[0m\u001b[0;34m\u001b[0m\u001b[0m\n\u001b[1;32m     20\u001b[0m             \u001b[0m_\u001b[0m\u001b[0;34m,\u001b[0m \u001b[0mframe\u001b[0m \u001b[0;34m=\u001b[0m \u001b[0mcap\u001b[0m\u001b[0;34m.\u001b[0m\u001b[0mread\u001b[0m\u001b[0;34m(\u001b[0m\u001b[0;34m)\u001b[0m\u001b[0;34m\u001b[0m\u001b[0m\n\u001b[0;32m---> 21\u001b[0;31m             \u001b[0mblurry\u001b[0m \u001b[0;34m=\u001b[0m \u001b[0mcv2\u001b[0m\u001b[0;34m.\u001b[0m\u001b[0mLaplacian\u001b[0m\u001b[0;34m(\u001b[0m\u001b[0mframe\u001b[0m\u001b[0;34m,\u001b[0m \u001b[0mcv2\u001b[0m\u001b[0;34m.\u001b[0m\u001b[0mCV_64F\u001b[0m\u001b[0;34m)\u001b[0m\u001b[0;34m.\u001b[0m\u001b[0mvar\u001b[0m\u001b[0;34m(\u001b[0m\u001b[0;34m)\u001b[0m\u001b[0;34m\u001b[0m\u001b[0m\n\u001b[0m\u001b[1;32m     22\u001b[0m             \u001b[0;31m# print(blurry)\u001b[0m\u001b[0;34m\u001b[0m\u001b[0;34m\u001b[0m\u001b[0m\n\u001b[1;32m     23\u001b[0m             \u001b[0;32mif\u001b[0m \u001b[0mmax_blurry\u001b[0m \u001b[0;34m<\u001b[0m \u001b[0mblurry\u001b[0m\u001b[0;34m:\u001b[0m\u001b[0;34m\u001b[0m\u001b[0m\n",
      "\u001b[0;32m/home/user/anaconda3/lib/python3.6/site-packages/numpy/core/_methods.py\u001b[0m in \u001b[0;36m_var\u001b[0;34m(a, axis, dtype, out, ddof, keepdims)\u001b[0m\n\u001b[1;32m    110\u001b[0m     \u001b[0;31m# Note that x may not be inexact and that we need it to be an array,\u001b[0m\u001b[0;34m\u001b[0m\u001b[0;34m\u001b[0m\u001b[0m\n\u001b[1;32m    111\u001b[0m     \u001b[0;31m# not a scalar.\u001b[0m\u001b[0;34m\u001b[0m\u001b[0;34m\u001b[0m\u001b[0m\n\u001b[0;32m--> 112\u001b[0;31m     \u001b[0mx\u001b[0m \u001b[0;34m=\u001b[0m \u001b[0masanyarray\u001b[0m\u001b[0;34m(\u001b[0m\u001b[0marr\u001b[0m \u001b[0;34m-\u001b[0m \u001b[0marrmean\u001b[0m\u001b[0;34m)\u001b[0m\u001b[0;34m\u001b[0m\u001b[0m\n\u001b[0m\u001b[1;32m    113\u001b[0m     \u001b[0;32mif\u001b[0m \u001b[0missubclass\u001b[0m\u001b[0;34m(\u001b[0m\u001b[0marr\u001b[0m\u001b[0;34m.\u001b[0m\u001b[0mdtype\u001b[0m\u001b[0;34m.\u001b[0m\u001b[0mtype\u001b[0m\u001b[0;34m,\u001b[0m \u001b[0mnt\u001b[0m\u001b[0;34m.\u001b[0m\u001b[0mcomplexfloating\u001b[0m\u001b[0;34m)\u001b[0m\u001b[0;34m:\u001b[0m\u001b[0;34m\u001b[0m\u001b[0m\n\u001b[1;32m    114\u001b[0m         \u001b[0mx\u001b[0m \u001b[0;34m=\u001b[0m \u001b[0mum\u001b[0m\u001b[0;34m.\u001b[0m\u001b[0mmultiply\u001b[0m\u001b[0;34m(\u001b[0m\u001b[0mx\u001b[0m\u001b[0;34m,\u001b[0m \u001b[0mum\u001b[0m\u001b[0;34m.\u001b[0m\u001b[0mconjugate\u001b[0m\u001b[0;34m(\u001b[0m\u001b[0mx\u001b[0m\u001b[0;34m)\u001b[0m\u001b[0;34m,\u001b[0m \u001b[0mout\u001b[0m\u001b[0;34m=\u001b[0m\u001b[0mx\u001b[0m\u001b[0;34m)\u001b[0m\u001b[0;34m.\u001b[0m\u001b[0mreal\u001b[0m\u001b[0;34m\u001b[0m\u001b[0m\n",
      "\u001b[0;31mKeyboardInterrupt\u001b[0m: "
     ]
    }
   ],
   "source": [
    "from operator import itemgetter\n",
    "from itertools import *\n",
    "\n",
    "for file in files:\n",
    "    video_path = file.replace('.txt', '.mp4')\n",
    "    video_name = file.split('/')[-1].split('.')[0]\n",
    "    cap = cv2.VideoCapture(video_path)\n",
    "    # 从为1的部分截取锐度最高的一帧\n",
    "    frame_idx = []\n",
    "    label = open(file, 'r').readlines()[0]\n",
    "    frame_idx = [idx for idx, lb in enumerate(label) if lb == '1']\n",
    "    frame_idxss = [list(map(itemgetter(1), g)) for k, g in groupby(enumerate(frame_idx), lambda x: x[0]-x[1])]\n",
    "    cnt = 0\n",
    "    print(len(frame_idxss))\n",
    "    for frame_idxs in frame_idxss:\n",
    "        cap.set(1, frame_idxs[0])\n",
    "        max_blurry = 0\n",
    "        max_blurry_frame = None\n",
    "\n",
    "        for i in frame_idxs:\n",
    "            _, frame = cap.read()\n",
    "            blurry = cv2.Laplacian(frame, cv2.CV_64F).var()\n",
    "            # print(blurry)\n",
    "            if max_blurry < blurry:\n",
    "                max_blurry = blurry\n",
    "                max_blurry_frame = frame\n",
    "        \n",
    "        cv2.imwrite('{}/{}_{}.png'.format(TARGET_DATA_DIR, video_name, cnt), max_blurry_frame)\n",
    "        print('写入')\n",
    "        cnt += 1\n",
    "    # print('完成了{}，共抽取了{}个图片'.format(file, cnt))\n",
    "    "
   ]
  },
  {
   "cell_type": "code",
   "execution_count": null,
   "metadata": {
    "collapsed": true
   },
   "outputs": [],
   "source": []
  }
 ],
 "metadata": {
  "kernelspec": {
   "display_name": "Python 3",
   "language": "python",
   "name": "python3"
  },
  "language_info": {
   "codemirror_mode": {
    "name": "ipython",
    "version": 3
   },
   "file_extension": ".py",
   "mimetype": "text/x-python",
   "name": "python",
   "nbconvert_exporter": "python",
   "pygments_lexer": "ipython3",
   "version": "3.6.0"
  }
 },
 "nbformat": 4,
 "nbformat_minor": 2
}
