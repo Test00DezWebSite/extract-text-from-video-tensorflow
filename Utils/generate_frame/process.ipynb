{
 "cells": [
  {
   "cell_type": "code",
   "execution_count": 7,
   "metadata": {
    "collapsed": true
   },
   "outputs": [],
   "source": [
    "import os\n",
    "import shutil\n",
    "import numpy as np\n",
    "import random\n",
    "import cv2\n"
   ]
  },
  {
   "cell_type": "code",
   "execution_count": 8,
   "metadata": {
    "collapsed": true
   },
   "outputs": [],
   "source": [
    "# 如果设为True，将从整个`classify_frames`文件夹读取，并将清空整个`TARGET_DATA_DIR`文件夹\n",
    "is_flash = False"
   ]
  },
  {
   "cell_type": "code",
   "execution_count": 9,
   "metadata": {
    "collapsed": false
   },
   "outputs": [
    {
     "name": "stdout",
     "output_type": "stream",
     "text": [
      "detect_text_area/20170826\n"
     ]
    }
   ],
   "source": [
    "RAW_DATA_DIRS = ['detect_text_area/20170826']\n",
    "# 原始数据文件夹，如果不重新生成数据的话，将else部分改为新数据的文件夹\n",
    "if is_flash:\n",
    "    RAW_DATA_DIRS = os.listdir('detect_text_area')\n",
    "    RAW_DATA_DIRS = [os.path.join('detect_text_area', i) for i in RAW_DATA_DIRS]\n",
    "\n",
    "TARGET_DATA_DIR = 'data'\n",
    "dataset_name = 'data'\n",
    "\n",
    "print('\\n'.join(RAW_DATA_DIRS))"
   ]
  },
  {
   "cell_type": "code",
   "execution_count": 10,
   "metadata": {
    "collapsed": true
   },
   "outputs": [],
   "source": [
    "if is_flash:\n",
    "    if os.path.isdir(TARGET_DATA_DIR):\n",
    "        shutil.rmtree(TARGET_DATA_DIR)\n",
    "    os.mkdir(TARGET_DATA_DIR)\n",
    "    print('重建了data文件夹')"
   ]
  },
  {
   "cell_type": "code",
   "execution_count": 11,
   "metadata": {
    "collapsed": false
   },
   "outputs": [
    {
     "name": "stdout",
     "output_type": "stream",
     "text": [
      "detect_text_area/20170826/VID_20170826_163623.txt\n",
      "detect_text_area/20170826/VID_20170826_134042.txt\n",
      "detect_text_area/20170826/VID_20170826_133318.txt\n",
      "detect_text_area/20170826/VID_20170826_121618.txt\n",
      "detect_text_area/20170826/VID_20170826_162309.txt\n",
      "detect_text_area/20170826/VID_20170826_162917.txt\n",
      "detect_text_area/20170826/VID_20170826_162110.txt\n",
      "detect_text_area/20170826/VID_20170826_162201.txt\n",
      "detect_text_area/20170826/VID_20170826_133734.txt\n",
      "detect_text_area/20170826/VID_20170826_131254.txt\n",
      "detect_text_area/20170826/VID_20170826_162357.txt\n",
      "detect_text_area/20170826/VID_20170826_162024.txt\n",
      "detect_text_area/20170826/VID_20170826_132218.txt\n",
      "detect_text_area/20170826/VID_20170826_161645.txt\n",
      "detect_text_area/20170826/VID_20170826_131335.txt\n",
      "detect_text_area/20170826/VID_20170826_131629.txt\n",
      "detect_text_area/20170826/VID_20170826_162441.txt\n",
      "detect_text_area/20170826/VID_20170826_120103(1).txt\n",
      "detect_text_area/20170826/VID_20170826_163317.txt\n",
      "detect_text_area/20170826/VID_20170826_121417.txt\n",
      "detect_text_area/20170826/VID_20170826_161920.txt\n",
      "detect_text_area/20170826/VID_20170826_163202.txt\n",
      "detect_text_area/20170826/VID_20170826_134253.txt\n",
      "detect_text_area/20170826/VID_20170826_161742.txt\n",
      "detect_text_area/20170826/VID_20170826_121507.txt\n",
      "detect_text_area/20170826/VID_20170826_163106.txt\n",
      "detect_text_area/20170826/VID_20170826_163020.txt\n",
      "detect_text_area/20170826/VID_20170826_132308.txt\n",
      "detect_text_area/20170826/VID_20170826_132006.txt\n",
      "detect_text_area/20170826/VID_20170826_121314.txt\n",
      "detect_text_area/20170826/VID_20170826_133820.txt\n",
      "detect_text_area/20170826/VID_20170826_162740.txt\n",
      "detect_text_area/20170826/VID_20170826_120554.txt\n",
      "detect_text_area/20170826/VID_20170826_121753.txt\n",
      "detect_text_area/20170826/VID_20170826_163744.txt\n",
      "detect_text_area/20170826/VID_20170826_120325.txt\n",
      "detect_text_area/20170826/VID_20170826_163517.txt\n",
      "detect_text_area/20170826/VID_20170826_162821.txt\n",
      "detect_text_area/20170826/VID_20170826_163409.txt\n",
      "detect_text_area/20170826/VID_20170826_120647.txt\n",
      "detect_text_area/20170826/VID_20170826_134344.txt\n",
      "detect_text_area/20170826/VID_20170826_121701.txt\n",
      "detect_text_area/20170826/VID_20170826_163659.txt\n",
      "detect_text_area/20170826/VID_20170826_133651.txt\n",
      "detect_text_area/20170826/VID_20170826_131209.txt\n",
      "detect_text_area/20170826/VID_20170826_131533.txt\n",
      "detect_text_area/20170826/VID_20170826_131752.txt\n",
      "detect_text_area/20170826/VID_20170826_132137.txt\n",
      "detect_text_area/20170826/VID_20170826_134153.txt\n",
      "detect_text_area/20170826/VID_20170826_161825.txt\n",
      "detect_text_area/20170826/VID_20170826_134000.txt\n",
      "detect_text_area/20170826/VID_20170826_133438.txt\n",
      "detect_text_area/20170826/VID_20170826_133516.txt\n",
      "detect_text_area/20170826/VID_20170826_131444.txt\n",
      "detect_text_area/20170826/VID_20170826_161553.txt\n",
      "detect_text_area/20170826/VID_20170826_131840.txt\n",
      "detect_text_area/20170826/VID_20170826_120416.txt\n",
      "detect_text_area/20170826/VID_20170826_121117.txt\n"
     ]
    }
   ],
   "source": [
    "files = []\n",
    "\n",
    "for raw_data_dir in RAW_DATA_DIRS:\n",
    "    for filename in os.listdir(raw_data_dir):\n",
    "        if filename.endswith('txt'):\n",
    "            files.append(os.path.join(raw_data_dir, filename))\n",
    "print('\\n'.join(files))"
   ]
  },
  {
   "cell_type": "code",
   "execution_count": 14,
   "metadata": {
    "collapsed": false
   },
   "outputs": [
    {
     "name": "stdout",
     "output_type": "stream",
     "text": [
      "11\n",
      "完成了detect_text_area/20170826/VID_20170826_163623.txt，共抽取了11个图片\n",
      "10\n",
      "完成了detect_text_area/20170826/VID_20170826_134042.txt，共抽取了10个图片\n",
      "8\n",
      "完成了detect_text_area/20170826/VID_20170826_133318.txt，共抽取了8个图片\n",
      "9\n",
      "完成了detect_text_area/20170826/VID_20170826_121618.txt，共抽取了9个图片\n",
      "8\n",
      "完成了detect_text_area/20170826/VID_20170826_162309.txt，共抽取了8个图片\n",
      "9\n",
      "完成了detect_text_area/20170826/VID_20170826_162917.txt，共抽取了9个图片\n",
      "10\n",
      "完成了detect_text_area/20170826/VID_20170826_162110.txt，共抽取了10个图片\n",
      "7\n",
      "完成了detect_text_area/20170826/VID_20170826_162201.txt，共抽取了7个图片\n",
      "9\n",
      "完成了detect_text_area/20170826/VID_20170826_133734.txt，共抽取了9个图片\n",
      "11\n",
      "完成了detect_text_area/20170826/VID_20170826_131254.txt，共抽取了11个图片\n",
      "8\n",
      "完成了detect_text_area/20170826/VID_20170826_162357.txt，共抽取了8个图片\n",
      "8\n",
      "完成了detect_text_area/20170826/VID_20170826_162024.txt，共抽取了8个图片\n",
      "10\n",
      "完成了detect_text_area/20170826/VID_20170826_132218.txt，共抽取了10个图片\n",
      "10\n",
      "完成了detect_text_area/20170826/VID_20170826_161645.txt，共抽取了10个图片\n",
      "12\n",
      "完成了detect_text_area/20170826/VID_20170826_131335.txt，共抽取了12个图片\n",
      "8\n",
      "完成了detect_text_area/20170826/VID_20170826_131629.txt，共抽取了8个图片\n",
      "8\n",
      "完成了detect_text_area/20170826/VID_20170826_162441.txt，共抽取了8个图片\n",
      "8\n",
      "完成了detect_text_area/20170826/VID_20170826_120103(1).txt，共抽取了8个图片\n",
      "8\n",
      "完成了detect_text_area/20170826/VID_20170826_163317.txt，共抽取了8个图片\n",
      "10\n",
      "完成了detect_text_area/20170826/VID_20170826_121417.txt，共抽取了10个图片\n",
      "10\n",
      "完成了detect_text_area/20170826/VID_20170826_161920.txt，共抽取了10个图片\n",
      "11\n",
      "完成了detect_text_area/20170826/VID_20170826_163202.txt，共抽取了11个图片\n",
      "8\n",
      "完成了detect_text_area/20170826/VID_20170826_134253.txt，共抽取了8个图片\n",
      "9\n",
      "完成了detect_text_area/20170826/VID_20170826_161742.txt，共抽取了9个图片\n",
      "10\n",
      "完成了detect_text_area/20170826/VID_20170826_121507.txt，共抽取了10个图片\n",
      "9\n",
      "完成了detect_text_area/20170826/VID_20170826_163106.txt，共抽取了9个图片\n",
      "9\n",
      "完成了detect_text_area/20170826/VID_20170826_163020.txt，共抽取了9个图片\n",
      "10\n",
      "完成了detect_text_area/20170826/VID_20170826_132308.txt，共抽取了10个图片\n",
      "10\n",
      "完成了detect_text_area/20170826/VID_20170826_132006.txt，共抽取了10个图片\n",
      "9\n",
      "完成了detect_text_area/20170826/VID_20170826_121314.txt，共抽取了9个图片\n",
      "8\n",
      "完成了detect_text_area/20170826/VID_20170826_133820.txt，共抽取了8个图片\n",
      "9\n",
      "完成了detect_text_area/20170826/VID_20170826_162740.txt，共抽取了9个图片\n",
      "9\n",
      "完成了detect_text_area/20170826/VID_20170826_120554.txt，共抽取了9个图片\n",
      "8\n",
      "完成了detect_text_area/20170826/VID_20170826_121753.txt，共抽取了8个图片\n",
      "9\n",
      "完成了detect_text_area/20170826/VID_20170826_163744.txt，共抽取了9个图片\n",
      "10\n",
      "完成了detect_text_area/20170826/VID_20170826_120325.txt，共抽取了10个图片\n",
      "10\n",
      "完成了detect_text_area/20170826/VID_20170826_163517.txt，共抽取了10个图片\n",
      "9\n",
      "完成了detect_text_area/20170826/VID_20170826_162821.txt，共抽取了9个图片\n",
      "9\n",
      "完成了detect_text_area/20170826/VID_20170826_163409.txt，共抽取了9个图片\n",
      "11\n",
      "完成了detect_text_area/20170826/VID_20170826_120647.txt，共抽取了11个图片\n",
      "8\n",
      "完成了detect_text_area/20170826/VID_20170826_134344.txt，共抽取了8个图片\n",
      "8\n",
      "完成了detect_text_area/20170826/VID_20170826_121701.txt，共抽取了8个图片\n",
      "9\n",
      "完成了detect_text_area/20170826/VID_20170826_163659.txt，共抽取了9个图片\n",
      "10\n",
      "完成了detect_text_area/20170826/VID_20170826_133651.txt，共抽取了10个图片\n",
      "11\n",
      "完成了detect_text_area/20170826/VID_20170826_131209.txt，共抽取了11个图片\n",
      "11\n",
      "完成了detect_text_area/20170826/VID_20170826_131533.txt，共抽取了11个图片\n",
      "9\n",
      "完成了detect_text_area/20170826/VID_20170826_131752.txt，共抽取了9个图片\n",
      "12\n",
      "完成了detect_text_area/20170826/VID_20170826_132137.txt，共抽取了12个图片\n",
      "8\n",
      "完成了detect_text_area/20170826/VID_20170826_134153.txt，共抽取了8个图片\n",
      "8\n",
      "完成了detect_text_area/20170826/VID_20170826_161825.txt，共抽取了8个图片\n",
      "10\n",
      "完成了detect_text_area/20170826/VID_20170826_134000.txt，共抽取了10个图片\n",
      "11\n",
      "完成了detect_text_area/20170826/VID_20170826_133438.txt，共抽取了11个图片\n",
      "12\n",
      "完成了detect_text_area/20170826/VID_20170826_133516.txt，共抽取了12个图片\n",
      "9\n",
      "完成了detect_text_area/20170826/VID_20170826_131444.txt，共抽取了9个图片\n",
      "10\n",
      "完成了detect_text_area/20170826/VID_20170826_161553.txt，共抽取了10个图片\n",
      "9\n",
      "完成了detect_text_area/20170826/VID_20170826_131840.txt，共抽取了9个图片\n",
      "8\n",
      "完成了detect_text_area/20170826/VID_20170826_120416.txt，共抽取了8个图片\n",
      "10\n",
      "完成了detect_text_area/20170826/VID_20170826_121117.txt，共抽取了10个图片\n"
     ]
    }
   ],
   "source": [
    "from operator import itemgetter\n",
    "from itertools import *\n",
    "\n",
    "for file in files:\n",
    "    video_path = file.replace('.txt', '.mp4')\n",
    "    video_name = file.split('/')[-1].split('.')[0]\n",
    "    cap = cv2.VideoCapture(video_path)\n",
    "    # 从为1的部分截取锐度最高的一帧\n",
    "    frame_idx = []\n",
    "    label = open(file, 'r').readlines()[0]\n",
    "    frame_idx = [idx for idx, lb in enumerate(label) if lb == '1']\n",
    "    frame_idxss = [list(map(itemgetter(1), g)) for k, g in groupby(enumerate(frame_idx), lambda x: x[0]-x[1])]\n",
    "    cnt = 0\n",
    "    print(len(frame_idxss))\n",
    "    for frame_idxs in frame_idxss:\n",
    "        cap.set(1, frame_idxs[0])\n",
    "        max_blurry = 0\n",
    "        max_blurry_frame = None\n",
    "\n",
    "        for i in frame_idxs:\n",
    "            ret, frame = cap.read()\n",
    "            blurry = 0\n",
    "            if ret:\n",
    "                blurry = cv2.Laplacian(frame, cv2.CV_64F).var()\n",
    "            if max_blurry < blurry:\n",
    "                max_blurry = blurry\n",
    "                max_blurry_frame = frame\n",
    "        cv2.imwrite('{}/{}_{}.png'.format(TARGET_DATA_DIR, video_name, cnt), max_blurry_frame)\n",
    "        cnt += 1\n",
    "    print('完成了{}，共抽取了{}个图片'.format(file, cnt))\n",
    "    "
   ]
  },
  {
   "cell_type": "code",
   "execution_count": null,
   "metadata": {
    "collapsed": true
   },
   "outputs": [],
   "source": []
  }
 ],
 "metadata": {
  "kernelspec": {
   "display_name": "Python 3",
   "language": "python",
   "name": "python3"
  },
  "language_info": {
   "codemirror_mode": {
    "name": "ipython",
    "version": 3
   },
   "file_extension": ".py",
   "mimetype": "text/x-python",
   "name": "python",
   "nbconvert_exporter": "python",
   "pygments_lexer": "ipython3",
   "version": "3.6.0"
  }
 },
 "nbformat": 4,
 "nbformat_minor": 2
}
