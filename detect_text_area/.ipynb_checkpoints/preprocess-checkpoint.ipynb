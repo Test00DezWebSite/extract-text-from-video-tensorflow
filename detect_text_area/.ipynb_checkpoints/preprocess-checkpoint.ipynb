{
 "cells": [
  {
   "cell_type": "markdown",
   "metadata": {
    "collapsed": true
   },
   "source": [
    "# Datasets解释\n",
    "**classify_frames**: 视频文件及同名label，处理后为帧图片(resize后)及labels.txt，放入`classify_frames/data`\n",
    "**detect_text_area**: 帧图片(每个有效片段选取1帧)及标注(拉框)，处理后为图片\n",
    "**segment_lines**: \n",
    "**recognize_sequences**: "
   ]
  },
  {
   "cell_type": "code",
   "execution_count": null,
   "metadata": {
    "collapsed": true
   },
   "outputs": [],
   "source": [
    "输入：\n",
    "输出："
   ]
  }
 ],
 "metadata": {
  "kernelspec": {
   "display_name": "Python 3",
   "language": "python",
   "name": "python3"
  },
  "language_info": {
   "codemirror_mode": {
    "name": "ipython",
    "version": 3
   },
   "file_extension": ".py",
   "mimetype": "text/x-python",
   "name": "python",
   "nbconvert_exporter": "python",
   "pygments_lexer": "ipython3",
   "version": "3.6.0"
  }
 },
 "nbformat": 4,
 "nbformat_minor": 2
}
